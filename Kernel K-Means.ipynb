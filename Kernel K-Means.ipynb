{
 "cells": [
  {
   "cell_type": "code",
   "execution_count": 3,
   "metadata": {
    "collapsed": true
   },
   "outputs": [],
   "source": [
    "import numpy as np\n",
    "from sklearn.datasets.samples_generator import make_blobs\n",
    "from sklearn.datasets.samples_generator import make_moons\n",
    "from scipy.spatial.distance import pdist, squareform\n",
    "import scipy\n",
    "import matplotlib.pyplot as plt\n",
    "import numpy.linalg as LA"
   ]
  },
  {
   "cell_type": "code",
   "execution_count": 4,
   "metadata": {
    "collapsed": false
   },
   "outputs": [
    {
     "data": {
      "image/png": "[encoded data removed]",
      "text/plain": [
       "<matplotlib.figure.Figure at 0x7f91aba476d8>"
      ]
     },
     "metadata": {},
     "output_type": "display_data"
    },
    {
     "name": "stdout",
     "output_type": "stream",
     "text": [
      "X shape (100, 2)\n",
      "Cluster membership: [1 0 1 0 0 0 0 0 1 0 1 1 0 0 1 0 0 1 0 0 1 0 1 1 1 0 0 1 1 1 0 0 0 1 0 1 0\n",
      " 1 1 1 0 0 1 0 0 1 1 0 0 0 1 0 1 0 1 1 1 1 0 0 0 0 1 0 0 1 1 0 1 0 1 1 0 0\n",
      " 1 0 1 0 0 1 1 1 1 1 1 1 0 0 0 0 1 0 0 1 1 1 1 0 1 1]\n"
     ]
    }
   ],
   "source": [
    "num_samples = 100\n",
    "num_features = 2\n",
    "X, y = make_moons(n_samples = num_samples)\n",
    "plt.scatter(X[:,0], X[:,1])\n",
    "plt.show()\n",
    "print('X shape', X.shape)\n",
    "# print('X')\n",
    "# print(X)\n",
    "print('Cluster membership:', y)"
   ]
  },
  {
   "cell_type": "code",
   "execution_count": 8,
   "metadata": {
    "collapsed": true
   },
   "outputs": [],
   "source": [
    "def kernel_matrix(X, gamma):\n",
    "    n = X.shape[0]\n",
    "    K = np.zeros((n, n))\n",
    "    sq_dists = pdist(X, 'sqeuclidean')\n",
    "    mat_sq_dists = squareform(sq_dists)\n",
    "    K = scipy.exp(-gamma * mat_sq_dists)\n",
    "    return K\n",
    "\n",
    "def rbf_value(x, y, gamma):\n",
    "    diff = x - y\n",
    "    dif_norm = LA.norm(diff)**2\n",
    "    prod = -1.0 * dif_norm * gamma\n",
    "    rbf_value = np.exp(prod)\n",
    "    return rbf_value\n",
    "    "
   ]
  },
  {
   "cell_type": "code",
   "execution_count": 27,
   "metadata": {
    "collapsed": false
   },
   "outputs": [
    {
     "name": "stdout",
     "output_type": "stream",
     "text": [
      "Num samples: 100 K: 2\n",
      "Dim of a: (100, 2)\n",
      "Dim of k: (100, 100)\n",
      "Randomly chosen means: [[ 0.88304072  0.52811567]\n",
      " [ 0.29727683  0.9570953 ]]\n"
     ]
    }
   ],
   "source": [
    "num_means = 2\n",
    "gamma = 0.5\n",
    "print('Num samples:', num_samples, 'K:',num_means)\n",
    "A = np.zeros((num_samples, num_means))\n",
    "K = kernel_matrix(X, gamma)\n",
    "print('Dim of a:', A.shape)\n",
    "print('Dim of k:', K.shape)\n",
    "\n",
    "means = np.random.random((num_means, num_features))\n",
    "print('Randomly chosen means:', means)"
   ]
  },
  {
   "cell_type": "code",
   "execution_count": 35,
   "metadata": {
    "collapsed": false
   },
   "outputs": [],
   "source": [
    "# Initial assigment of samples to our means\n",
    "dist_mean = np.zeros(num_means)\n",
    "for i in range(num_samples):\n",
    "    for j in range(num_means):\n",
    "        dist_mean[j] = rbf_value(X[i], X[i], gamma) - 2*rbf_value(X[i], means[j], gamma) + rbf_value(means[j], means[j], gamma)\n",
    "    assigned_mean = np.argmin(dist_mean)\n",
    "#     print('i:', i,'assigned mean:n', assigned_mean)\n",
    "    A[i, assigned_mean] = 1\n",
    "\n",
    "# print('Assigned Mean')\n",
    "# print(A)\n",
    "        "
   ]
  },
  {
   "cell_type": "code",
   "execution_count": 36,
   "metadata": {
    "collapsed": true
   },
   "outputs": [],
   "source": [
    "def distance_transformed(i, j, K, A):\n",
    "    distance = 0\n",
    "    num_samples = a.shape[0]\n",
    "    num_means = a.shape[1]\n",
    "    mod_means = np.zeros(num_means)\n",
    "    mod_means = np.sum(a[:, j])\n",
    "    distance += K[i, i]\n",
    "    middle = 0\n",
    "    for idx in range(num_samples):\n",
    "        middle += (A[idx, j] * K[i, idx])\n",
    "    middle = 2*middle/mod_means\n",
    "    distance -= middle\n",
    "    last = 0\n",
    "    for idx in range(num_samples):\n",
    "        for jdx in range(num_samples):\n",
    "            last += A[idx, j] * A[jdx, j] * K[idx, jdx]\n",
    "    last = last/(mod_means**2)\n",
    "    distance += last\n",
    "    return distance\n",
    "    \n",
    "    \n",
    "    "
   ]
  },
  {
   "cell_type": "code",
   "execution_count": 49,
   "metadata": {
    "collapsed": false
   },
   "outputs": [],
   "source": [
    "num_iterations = 3\n",
    "dist_mean = np.zeros(num_means)\n",
    "for k in range(num_iterations):\n",
    "    new_A = np.zeros((num_samples, num_means))\n",
    "    for i in range(num_samples):\n",
    "        for j in range(num_means):\n",
    "            dist_mean[j] = distance_transformed(i, j, K, A)\n",
    "        assigned_mean = np.argmin(dist_mean)\n",
    "#         print('num_iterations',k,'i:', i,'assigned mean:n', assigned_mean)\n",
    "        new_A[i, assigned_mean] = 1\n",
    "    A = new_A"
   ]
  },
  {
   "cell_type": "code",
   "execution_count": 48,
   "metadata": {
    "collapsed": false
   },
   "outputs": [
    {
     "name": "stdout",
     "output_type": "stream",
     "text": [
      "Cluster 1 size (48, 2)\n",
      "Cluster 2 size (52, 2)\n"
     ]
    },
    {
     "data": {
      "image/png": "[encoded data removed]",
      "text/plain": [
       "<matplotlib.figure.Figure at 0x7f5d6b672d68>"
      ]
     },
     "metadata": {},
     "output_type": "display_data"
    }
   ],
   "source": [
    "bool_idx = A[:,0] > 0\n",
    "bool_idx\n",
    "cluster1 = X[bool_idx,:]\n",
    "print('Cluster 1 size', cluster1.shape)\n",
    "bool_idx = A[:,0] == 0\n",
    "cluster2 = X[bool_idx,:]\n",
    "print('Cluster 2 size', cluster2.shape)\n",
    "plt.scatter(cluster1[:,0], cluster1[:,1])\n",
    "plt.scatter(cluster2[:,0], cluster2[:,1], color='r')\n",
    "plt.show()\n"
   ]
  },
  {
   "cell_type": "code",
   "execution_count": null,
   "metadata": {
    "collapsed": true
   },
   "outputs": [],
   "source": []
  }
 ],
 "metadata": {
  "anaconda-cloud": {},
  "kernelspec": {
   "display_name": "Python [default]",
   "language": "python",
   "name": "python3"
  },
  "language_info": {
   "codemirror_mode": {
    "name": "ipython",
    "version": 3
   },
   "file_extension": ".py",
   "mimetype": "text/x-python",
   "name": "python",
   "nbconvert_exporter": "python",
   "pygments_lexer": "ipython3",
   "version": "3.5.2"
  }
 },
 "nbformat": 4,
 "nbformat_minor": 1
}
